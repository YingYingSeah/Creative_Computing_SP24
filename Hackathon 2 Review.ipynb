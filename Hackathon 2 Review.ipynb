{
 "cells": [
  {
   "cell_type": "markdown",
   "id": "0696bf9c-eeca-4494-90ae-d9d7bc62b785",
   "metadata": {},
   "source": []
  },
  {
   "cell_type": "code",
   "execution_count": null,
   "id": "4a1d22f2-4304-402b-9f97-d18d541b4e65",
   "metadata": {},
   "outputs": [],
   "source": [
    "#Enter your code here"
   ]
  }
 ],
 "metadata": {
  "kernelspec": {
   "display_name": "Python 3 (ipykernel)",
   "language": "python",
   "name": "python3"
  },
  "language_info": {
   "codemirror_mode": {
    "name": "ipython",
    "version": 3
   },
   "file_extension": ".py",
   "mimetype": "text/x-python",
   "name": "python",
   "nbconvert_exporter": "python",
   "pygments_lexer": "ipython3",
   "version": "3.11.5"
  }
 },
 "nbformat": 4,
 "nbformat_minor": 5
}
