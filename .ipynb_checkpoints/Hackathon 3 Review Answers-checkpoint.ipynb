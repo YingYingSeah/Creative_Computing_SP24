{
 "cells": [
  {
   "cell_type": "code",
   "execution_count": 3,
   "id": "b423c43e-bc69-4f6e-a32f-7ece7227a58e",
   "metadata": {
    "tags": []
   },
   "outputs": [],
   "source": [
    "#1\n"
   ]
  },
  {
   "cell_type": "code",
   "execution_count": 1,
   "id": "04035fd6-43c9-4c88-90f0-d79546f694b4",
   "metadata": {
    "tags": []
   },
   "outputs": [
    {
     "name": "stdin",
     "output_type": "stream",
     "text": [
      "Enter the telephone number in the format XXX-XXX-XXXX:  123-get-food\n"
     ]
    },
    {
     "name": "stdout",
     "output_type": "stream",
     "text": [
      "The phone number is 123-438-3663\n"
     ]
    }
   ],
   "source": [
    "#2\n",
    "def main():\n",
    "    # Local variables\n",
    "    digit_list = ['2','3','4','5','6','7','8','9']\n",
    "    alpha_phone_number = ''\n",
    "    num_phone_number = ''\n",
    "\n",
    "    # Get the string as input from the user.\n",
    "    alpha_phone_number = input('Enter the telephone ' \\\n",
    "                               'number in the format' \\\n",
    "                               ' XXX-XXX-XXXX: ')\n",
    "\n",
    "    # Step through the string finding the index number\n",
    "    # from the digit list for each character. Build the\n",
    "    # string, and display the digits.\n",
    "    for ch in alpha_phone_number:\n",
    "        # Determine if the character is a letter.\n",
    "        if ch.isalpha():\n",
    "            # If so, convert the character to uppercase.\n",
    "            ch = ch.upper()\n",
    "            # Determine the index number for the character\n",
    "            # from the digit list.\n",
    "            if ch == 'A' or ch == 'B' or ch == 'C':\n",
    "                index = 0\n",
    "            elif ch == 'D' or ch == 'E' or ch == 'F':\n",
    "                index = 1\n",
    "            elif ch == 'G' or ch == 'H' or ch == 'I':\n",
    "                index = 2\n",
    "            elif ch == 'J' or ch == 'K' or ch == 'L':\n",
    "                index = 3\n",
    "            elif ch == 'M' or ch == 'N' or ch == 'O':\n",
    "                index = 4\n",
    "            elif ch == 'P' or ch == 'Q' or ch == 'R' or ch == 'S':\n",
    "                index = 5\n",
    "            elif ch == 'T' or ch == 'U' or ch == 'V':\n",
    "                index = 6\n",
    "            elif ch == 'W' or ch == 'X' or ch == 'Y' or ch == 'Z':\n",
    "                index = 7\n",
    "            # Set the character to a digit from the list.\n",
    "            ch = digit_list[index]\n",
    "            \n",
    "        # Concatenate the digit to the string.\n",
    "        num_phone_number = num_phone_number + ch\n",
    "\n",
    "    # Display the phone number's digits.\n",
    "    print('The phone number is', num_phone_number)\n",
    "\n",
    "# Call the main function.\n",
    "main()"
   ]
  },
  {
   "cell_type": "code",
   "execution_count": 2,
   "id": "9ebdf15b-f9f6-49b2-bd08-52a88b57ef61",
   "metadata": {
    "tags": []
   },
   "outputs": [
    {
     "name": "stdout",
     "output_type": "stream",
     "text": [
      "Deposited $1000. New balance: $1000\n",
      "Withdrew $500. New balance: $500\n",
      "Current balance: $500\n"
     ]
    }
   ],
   "source": [
    "#3\n",
    "class BankAccount:\n",
    "    def __init__(self, balance=0):\n",
    "        self.balance = balance\n",
    "\n",
    "    def deposit(self, amount):\n",
    "        if amount > 0:\n",
    "            self.balance += amount\n",
    "            print(f\"Deposited ${amount}. New balance: ${self.balance}\")\n",
    "        else:\n",
    "            print(\"Invalid deposit amount.\")\n",
    "\n",
    "    def withdraw(self, amount):\n",
    "        if 0 < amount <= self.balance:\n",
    "            self.balance -= amount\n",
    "            print(f\"Withdrew ${amount}. New balance: ${self.balance}\")\n",
    "        else:\n",
    "            print(\"Insufficient funds or invalid withdrawal amount.\")\n",
    "\n",
    "    def get_balance(self):\n",
    "        print(f\"Current balance: ${self.balance}\")\n",
    "\n",
    "\n",
    "# Create a bank account instance\n",
    "account = BankAccount()\n",
    "\n",
    "# Deposit money\n",
    "account.deposit(1000)\n",
    "\n",
    "# Withdraw money\n",
    "account.withdraw(500)\n",
    "\n",
    "# Check balance\n",
    "account.get_balance()"
   ]
  }
 ],
 "metadata": {
  "kernelspec": {
   "display_name": "Python 3 (ipykernel)",
   "language": "python",
   "name": "python3"
  },
  "language_info": {
   "codemirror_mode": {
    "name": "ipython",
    "version": 3
   },
   "file_extension": ".py",
   "mimetype": "text/x-python",
   "name": "python",
   "nbconvert_exporter": "python",
   "pygments_lexer": "ipython3",
   "version": "3.11.5"
  }
 },
 "nbformat": 4,
 "nbformat_minor": 5
}
