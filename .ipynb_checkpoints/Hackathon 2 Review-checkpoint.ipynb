{
 "cells": [
  {
   "cell_type": "markdown",
   "id": "0696bf9c-eeca-4494-90ae-d9d7bc62b785",
   "metadata": {},
   "source": [
    "# Hackathon 2 Review\n",
    "\n",
    "## Instructions\n",
    "\n",
    "You will be assessed on functions, file input/output, and lists using Python. Provide evidence of all these elements for solving the following exercise. Remember to include comments to document your codes. \n",
    "\n",
    "Write a program that asks the user to input and store at least 5 famous quotes along with its author name in a file named ‘quotes.txt’. Then, using the file ‘quotes.txt’, the program should generate a random quote of the day from the list of famous quotes stored that file. Print the randomly selected quote AND write the quote in a file named ‘daily_quotes.txt’. The existing content in the file ‘daily_quotes.txt’ should not be wiped every time you add new quotes.\n",
    "\n",
    "The final quote should display the randomly selected quote along with its author. An example of the final quote should look like this: \n",
    "\n",
    "E.g., The random quote of the day is “The only way to do great work is to love what you do.\" Steve Jobs"
   ]
  },
  {
   "cell_type": "code",
   "execution_count": null,
   "id": "4a1d22f2-4304-402b-9f97-d18d541b4e65",
   "metadata": {},
   "outputs": [],
   "source": [
    "#Enter your code here"
   ]
  }
 ],
 "metadata": {
  "kernelspec": {
   "display_name": "Python 3 (ipykernel)",
   "language": "python",
   "name": "python3"
  },
  "language_info": {
   "codemirror_mode": {
    "name": "ipython",
    "version": 3
   },
   "file_extension": ".py",
   "mimetype": "text/x-python",
   "name": "python",
   "nbconvert_exporter": "python",
   "pygments_lexer": "ipython3",
   "version": "3.11.5"
  }
 },
 "nbformat": 4,
 "nbformat_minor": 5
}
