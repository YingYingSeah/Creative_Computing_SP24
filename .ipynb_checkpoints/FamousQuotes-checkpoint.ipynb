{
 "cells": [
  {
   "cell_type": "code",
   "execution_count": null,
   "id": "a6744c3d-1412-4f93-aa77-9c193c6164c2",
   "metadata": {
    "tags": []
   },
   "outputs": [],
   "source": [
    "import random \n",
    "\n",
    "def main():\n",
    "    quotes_file = open('quotes.txt', 'w')\n",
    "    \n",
    "    for n in range(5):\n",
    "        user_quote = input(f'Input #{n+1} quote along with its authur\\'s name:')\n",
    "        quotes_file.writelines(f'{user_quote}\\n')\n",
    "    print(\"\\n5 famous quotes have been written to the file quotes.txt\") \n",
    "    \n",
    "    quotes_file = open('quotes.txt', 'r')\n",
    "    quotes = []\n",
    "\n",
    "    for line in quotes_file:\n",
    "        quotes.append(line)\n",
    "    \n",
    "    num = random.randrange(len(quotes))\n",
    "    \n",
    "    print(f'\\nThe random quote of the day is:{quotes[num]}')\n",
    "    quotes_file.close()\n",
    "\n",
    "# Call the main function.\n",
    "main()"
   ]
  },
  {
   "cell_type": "code",
   "execution_count": null,
   "id": "38342b7a-fdea-4332-91ab-9b6cdf301893",
   "metadata": {},
   "outputs": [],
   "source": []
  }
 ],
 "metadata": {
  "kernelspec": {
   "display_name": "Python 3 (ipykernel)",
   "language": "python",
   "name": "python3"
  },
  "language_info": {
   "codemirror_mode": {
    "name": "ipython",
    "version": 3
   },
   "file_extension": ".py",
   "mimetype": "text/x-python",
   "name": "python",
   "nbconvert_exporter": "python",
   "pygments_lexer": "ipython3",
   "version": "3.11.5"
  }
 },
 "nbformat": 4,
 "nbformat_minor": 5
}
