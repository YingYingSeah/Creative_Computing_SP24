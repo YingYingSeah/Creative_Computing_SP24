{
 "cells": [
  {
   "cell_type": "code",
   "execution_count": 11,
   "id": "6ebb1132-a4cc-4e9e-96e0-62eae30dc2a9",
   "metadata": {
    "tags": []
   },
   "outputs": [
    {
     "name": "stdin",
     "output_type": "stream",
     "text": [
      "How many quotes would you like to enter? 4\n",
      "What is the quote you would like to add? ggg\n",
      "What is the quote you would like to add? hhh\n",
      "What is the quote you would like to add? uuu\n",
      "What is the quote you would like to add? sss\n"
     ]
    },
    {
     "name": "stdout",
     "output_type": "stream",
     "text": [
      "hhh \n",
      "\n"
     ]
    }
   ],
   "source": [
    "import random\n",
    "def quote():\n",
    "    myfile=open('quotes.txt', 'w')\n",
    "    counter=0\n",
    "    loop=int(input(\"How many quotes would you like to enter?\"))\n",
    "    while counter<loop:\n",
    "        quote=input(\"What is the quote you would like to add?\")\n",
    "        counter+=1\n",
    "        myfile.write(f'{quote} \\n')\n",
    "        #myfile.close()#no need to close file here\n",
    "    #counter2=0\n",
    "    quote_list=[]#put this inside your quote() function\n",
    "    myfile=open('quotes.txt', 'r')#This should be outside the second while loop\n",
    "    #while counter2<loop:\n",
    "    for line in myfile:#use this loop instead\n",
    "        #content=myfile.readline()#you don't need to put anything inside readline()\n",
    "        quote_list.append(line)\n",
    "        #counter2+=1\n",
    "    myfile.close()#make sure you have () right after close & make sure this is outside of the loop\n",
    "    oofnum=len(quote_list) #you don't need to minus 1 here \n",
    "    num6=random.randrange(0,oofnum)#use randrange() instead\n",
    "    print(f'{quote_list[num6]}')\n",
    "       \n",
    "quote()"
   ]
  }
 ],
 "metadata": {
  "kernelspec": {
   "display_name": "Python 3 (ipykernel)",
   "language": "python",
   "name": "python3"
  },
  "language_info": {
   "codemirror_mode": {
    "name": "ipython",
    "version": 3
   },
   "file_extension": ".py",
   "mimetype": "text/x-python",
   "name": "python",
   "nbconvert_exporter": "python",
   "pygments_lexer": "ipython3",
   "version": "3.11.5"
  }
 },
 "nbformat": 4,
 "nbformat_minor": 5
}
