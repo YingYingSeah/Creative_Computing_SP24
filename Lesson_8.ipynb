{
 "cells": [
  {
   "cell_type": "markdown",
   "id": "44f0cccf-d072-4950-9dfb-93191b330208",
   "metadata": {},
   "source": [
    "<a href=\"https://colab.research.google.com/github/hewp84/Creative_Computing/blob/main/Lesson_8.ipynb\" target=\"_parent\"><img src=\"https://colab.research.google.com/assets/colab-badge.svg\" alt=\"Open In Colab\"/></a>"
   ]
  },
  {
   "cell_type": "markdown",
   "id": "972bae73-6e72-4acc-912e-dff27a7ec683",
   "metadata": {},
   "source": [
    "# Lesson 8: Functions-- Value Returning Functions"
   ]
  },
  {
   "cell_type": "markdown",
   "id": "54ccaabb-b6ac-4aea-b21b-6fa31dad4cec",
   "metadata": {},
   "source": [
    "#### What is a value-returning function?\n",
    "\n",
    "A value-returning function is a function that returns a value back to the part of the program that called it. Python, as well as most other programming languages, provides a library of prewritten functions that perform commonly needed tasks. These libraries typically contain a function that generates random numbers.\n",
    "\n",
    "When a value-returning function finishes, it returns a value back to the part of the program that called it. The value that is returned from a function can be used like any other value: it can be assigned to a variable, displayed on the screen, used in a mathematical expression (if it is a number), and so on.\n",
    "\n",
    "## Standard Library Functions, `import` statement\n",
    "\n",
    "### Built in functions\n",
    "\n",
    "Some examples:\n",
    "\n",
    "* `print`\n",
    "* `input`\n",
    "* `range`\n"
   ]
  },
  {
   "cell_type": "code",
   "execution_count": null,
   "id": "802c171f-1187-4cdb-bc46-3ad8bf33469c",
   "metadata": {},
   "outputs": [],
   "source": [
    "#Using Tab and shift+Tab\n",
    "print()\n",
    "input("
   ]
  },
  {
   "cell_type": "markdown",
   "id": "56f6d1f6-102e-4154-ade1-78978185a7b6",
   "metadata": {
    "jp-MarkdownHeadingCollapsed": true,
    "tags": []
   },
   "source": [
    "### Standard Library\n",
    "\n",
    "Using the `import` statement\n",
    "\n",
    "https://docs.python.org/3/library/index.html"
   ]
  },
  {
   "cell_type": "code",
   "execution_count": null,
   "id": "1f8e0ea3-f9a1-407d-aaae-ab4e06717cd1",
   "metadata": {},
   "outputs": [],
   "source": [
    "#You only have to declare them once. Usually at the heading of your code\n",
    "import math\n",
    "#After importing them, you can make use of their functions. You can hit Tab to check them out"
   ]
  },
  {
   "cell_type": "code",
   "execution_count": null,
   "id": "9e06799f-562c-41f5-9cb4-bf3af9d84728",
   "metadata": {},
   "outputs": [],
   "source": [
    "#Check some functions\n",
    "x= math.hypot(3,4)\n",
    "print(x)"
   ]
  },
  {
   "cell_type": "code",
   "execution_count": null,
   "id": "ad537c58-95bc-4015-ac62-68f992fedc17",
   "metadata": {
    "tags": []
   },
   "outputs": [],
   "source": []
  },
  {
   "cell_type": "markdown",
   "id": "768d348b-c89f-45eb-bd69-0b57449ac3f7",
   "metadata": {},
   "source": [
    "### Random library\n",
    "`import random`"
   ]
  },
  {
   "cell_type": "code",
   "execution_count": 1,
   "id": "7cc781dc-520b-49d7-8865-184e7f92d880",
   "metadata": {},
   "outputs": [],
   "source": [
    "import random"
   ]
  },
  {
   "cell_type": "code",
   "execution_count": 12,
   "id": "8f30ce21-dfce-4b8f-974b-2a8e2dfd1e26",
   "metadata": {
    "tags": []
   },
   "outputs": [
    {
     "name": "stdout",
     "output_type": "stream",
     "text": [
      "35\n",
      "72\n"
     ]
    }
   ],
   "source": [
    "number = random.randint(10,50)\n",
    "print(number)\n",
    "\n",
    "num3 = random.randrange(0,100,4)\n",
    "print(num3)"
   ]
  },
  {
   "cell_type": "markdown",
   "id": "96de2894-b7d5-4618-a820-57e3f5dcfca4",
   "metadata": {},
   "source": [
    "#### Example 1. Write a script using the random library."
   ]
  },
  {
   "cell_type": "code",
   "execution_count": 16,
   "id": "004bc88d-2abe-4f0a-8acc-459d047c2db2",
   "metadata": {},
   "outputs": [
    {
     "name": "stdout",
     "output_type": "stream",
     "text": [
      "9\n",
      "22\n"
     ]
    }
   ],
   "source": [
    "#Example 1\n",
    "odd = random.randrange(1,99,2)\n",
    "print(odd)\n",
    "\n",
    "even = random.randrange(0,100,2)\n",
    "print(even)"
   ]
  },
  {
   "cell_type": "markdown",
   "id": "f5c231c0-e93d-45d5-ac62-2813c227ee88",
   "metadata": {},
   "source": [
    "## Personalized value-returning functions\n"
   ]
  },
  {
   "cell_type": "code",
   "execution_count": null,
   "id": "c567d1a6-bb0a-428a-a4ee-4148ab8bb424",
   "metadata": {},
   "outputs": [],
   "source": [
    "def function():\n",
    "    statement\n",
    "    statement\n",
    "    etc.\n",
    "    return value"
   ]
  },
  {
   "cell_type": "code",
   "execution_count": 17,
   "id": "2d4a1043-0e90-4ff3-a370-c14b2d179d2e",
   "metadata": {},
   "outputs": [],
   "source": [
    "#Create an arithmetic function using value returns\n",
    "def cube(value1):\n",
    "    result = value1 ** 3\n",
    "    return result"
   ]
  },
  {
   "cell_type": "code",
   "execution_count": 19,
   "id": "aa43dc01-29c5-49ef-99db-6c67d6793c34",
   "metadata": {
    "tags": []
   },
   "outputs": [],
   "source": [
    "#a = 5\n",
    "#z = cube(a)\n",
    "#print(z)\n",
    "\n",
    "def square(number):\n",
    "    result = number**2\n",
    "    return result\n",
    "\n",
    "\n"
   ]
  },
  {
   "cell_type": "code",
   "execution_count": 20,
   "id": "adc4e9a5-e69e-452d-a1c1-72c659396e5e",
   "metadata": {
    "tags": []
   },
   "outputs": [
    {
     "name": "stdout",
     "output_type": "stream",
     "text": [
      "15625\n"
     ]
    }
   ],
   "source": [
    "x = 5\n",
    "y = cube(x)\n",
    "z = square(y)\n",
    "print(z)"
   ]
  },
  {
   "cell_type": "code",
   "execution_count": 21,
   "id": "a66bc300-17e4-4b92-a17b-5074dab4a36f",
   "metadata": {},
   "outputs": [
    {
     "name": "stdout",
     "output_type": "stream",
     "text": [
      "The total Indiana tax is $13.00\n"
     ]
    }
   ],
   "source": [
    "#Create a tax function that returns the tax collected using as arguments: price and tax percentage\n",
    "def tax(price, tax_per):\n",
    "    return price * tax_per/100\n",
    "\n",
    "tax_indiana = 6.5\n",
    "cost = 200\n",
    "print(f'The total Indiana tax is ${tax(cost, tax_indiana):.2f}')\n"
   ]
  },
  {
   "cell_type": "code",
   "execution_count": null,
   "id": "ade33866-c0ce-4884-9ece-e5d026cb0879",
   "metadata": {},
   "outputs": [],
   "source": [
    "#Create a function that calculates your age today\n",
    "from datetime import date\n",
    "\n",
    "def calculate_age(birth_year, birth_month,birth_day):\n",
    "    current = date.today()\n",
    "    birth = date(birth_year,birth_month,birth_day)\n",
    "    age = current.year - birth.year - ((current.month, current.day) < (birth.month, birth.day))\n",
    "    return age\n",
    "\n",
    "birth_year = int(input(\"Birth Year:\"))\n",
    "birth_month = int(input(\"Birth Month:\"))\n",
    "birth_day = int(input(\"Birth Day:\"))\n",
    "\n",
    "print(calculate_age(birth_year,birth_month, birth_day))"
   ]
  },
  {
   "cell_type": "code",
   "execution_count": 25,
   "id": "dfcfb801-3d0f-430e-ab0e-ed3ba18b2aec",
   "metadata": {
    "tags": []
   },
   "outputs": [],
   "source": [
    "def is_adult(age):\n",
    "    if age>18:\n",
    "        return True\n",
    "    else:\n",
    "        return False "
   ]
  },
  {
   "cell_type": "code",
   "execution_count": 27,
   "id": "4535b776-1246-4cf3-85c8-3debafe5f1b1",
   "metadata": {
    "tags": []
   },
   "outputs": [
    {
     "name": "stdin",
     "output_type": "stream",
     "text": [
      "What is your age? 30\n"
     ]
    },
    {
     "name": "stdout",
     "output_type": "stream",
     "text": [
      "You are an adult!\n"
     ]
    },
    {
     "name": "stdin",
     "output_type": "stream",
     "text": [
      "What is your age? 45\n"
     ]
    },
    {
     "name": "stdout",
     "output_type": "stream",
     "text": [
      "You are an adult!\n"
     ]
    },
    {
     "name": "stdin",
     "output_type": "stream",
     "text": [
      "What is your age? 2\n"
     ]
    },
    {
     "name": "stdout",
     "output_type": "stream",
     "text": [
      "You are a child!\n"
     ]
    }
   ],
   "source": [
    "age = int(input(\"What is your age?\"))\n",
    "\n",
    "while is_adult(age): \n",
    "    print(\"You are an adult!\")\n",
    "    age = int(input(\"What is your age?\"))\n",
    "\n",
    "print(\"You are a child!\")\n",
    "    "
   ]
  },
  {
   "cell_type": "markdown",
   "id": "85b87181-6c99-4d9d-9cec-1bddea4232ce",
   "metadata": {
    "tags": []
   },
   "source": [
    "### Different return values"
   ]
  },
  {
   "cell_type": "markdown",
   "id": "f9fb1d9f-23e4-47d7-b7ce-61fd0291b7da",
   "metadata": {},
   "source": [
    "## Storing functions in Modules\n",
    "\n",
    "A module is simply a file that contains Python code. When you break a program into modules, each module should contain functions that perform related tasks.\n",
    "\n",
    "Let's create a library called `circle` in a Python file called circle.py. The file should be stored in the same location where you are running the script that will use the library.\n"
   ]
  },
  {
   "cell_type": "code",
   "execution_count": null,
   "id": "9b00b6a8-8e79-4d42-a753-90005bab682b",
   "metadata": {},
   "outputs": [],
   "source": [
    "#Copy paste these functions and save them as a python file called circle.py. The name of the file determines the name of the library\n",
    "import math\n",
    "\n",
    "def area(r):\n",
    "    return math.pi * r ** 2\n",
    "\n",
    "def circumference(r):\n",
    "    return math.pi * r * 2\n",
    "\n",
    "def sphere(r):\n",
    "    return 4/3 * math.pi * r ** 3"
   ]
  },
  {
   "cell_type": "code",
   "execution_count": 2,
   "id": "2a0ecf03-486b-4c0e-a345-e34033e290c4",
   "metadata": {
    "tags": []
   },
   "outputs": [],
   "source": [
    "import Circle"
   ]
  },
  {
   "cell_type": "code",
   "execution_count": 10,
   "id": "63317ebd-746a-4894-a403-5579ee3b2c19",
   "metadata": {
    "tags": []
   },
   "outputs": [
    {
     "name": "stdin",
     "output_type": "stream",
     "text": [
      "Enter a radius: 4\n"
     ]
    },
    {
     "name": "stdout",
     "output_type": "stream",
     "text": [
      "50.27\n"
     ]
    }
   ],
   "source": [
    "r = float(input(\"Enter a radius:\"))\n",
    "\n",
    "print(f'{Circle.area(r):.2f}')"
   ]
  },
  {
   "cell_type": "code",
   "execution_count": null,
   "id": "a07bbbb4-e20e-47df-b4ed-8c3541843168",
   "metadata": {},
   "outputs": [],
   "source": []
  }
 ],
 "metadata": {
  "kernelspec": {
   "display_name": "Python 3 (ipykernel)",
   "language": "python",
   "name": "python3"
  },
  "language_info": {
   "codemirror_mode": {
    "name": "ipython",
    "version": 3
   },
   "file_extension": ".py",
   "mimetype": "text/x-python",
   "name": "python",
   "nbconvert_exporter": "python",
   "pygments_lexer": "ipython3",
   "version": "3.11.5"
  }
 },
 "nbformat": 4,
 "nbformat_minor": 5
}
