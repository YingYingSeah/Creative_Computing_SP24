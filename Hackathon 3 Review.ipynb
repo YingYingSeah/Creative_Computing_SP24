{
 "cells": [
  {
   "cell_type": "markdown",
   "id": "927b8cba-c293-4456-a350-21287d5a4757",
   "metadata": {},
   "source": [
    "### Question 1\n",
    "\n",
    "Write a program that keeps your friends' names and birthdays in a dictionary. Each entry in the dictionary uses a friend's name as the key, and that friend's birthday as the value. The program should also display a menu to allow the user to make one of the following choices. \n",
    "\n",
    "1. Look up a birthday\n",
    "2. Add a new birthday \n",
    "3. Change a birthday \n",
    "4. Delete a birthday \n",
    "5. Quit the program \n",
    "\n",
    "The program should initially starts with an empty dictionary, so you have to choose option 2 to add new entry. After that, you should be able to select any other options from the menu. You should incorporate as many functions as you can. "
   ]
  },
  {
   "cell_type": "markdown",
   "id": "d96260c3-9f72-4d60-b6c8-bb2ea0df68f9",
   "metadata": {},
   "source": [
    "### Question 2\n",
    "\n",
    "Write a program to convert any alphabetic characters in a phone number to their numeric equivalent. Many companies use telephone numbers like 555-GET-FOOD so the number is easier for their customers to remember. On a standard telephone, the alphabetic letters are mapped to numbers in the following fashion:\n",
    "\n",
    "    A, B, and C = 2\n",
    "    D, E, and F = 3\n",
    "    G, H, and I = 4\n",
    "    J, K, and L = 5\n",
    "    M, N, and O = 6\n",
    "    P, Q, R, and S = 7\n",
    "    T, U, and V = 8\n",
    "    W, X, Y, and Z = 9\n",
    "\n",
    "Write a program that asks the user to enter a 10-character telephone number in the format XXX-XXX-XXXX. The application should display the telephone number with any alphabetic characters that appeared in the original translated to their numeric equivalent. For example, if the user enters 555-GET-FOOD, the application should display 555-438-3663."
   ]
  },
  {
   "cell_type": "markdown",
   "id": "13b9f0dc-db00-44a7-8d74-083987bc5ebe",
   "metadata": {
    "tags": []
   },
   "source": [
    "### Question 3\n",
    "\n",
    "Write a program to manage basic bank account operations using Object-Oriented Programming practices. Create a BankAccount class with 'balance' atttribute and the following methods. Once the class is created, create at least one BankAccount instance to perform deposit, withdrawal, and balance check operations. \n",
    "\n",
    "1. Initialization: The BankAccount class starts with a zero balance by default.\n",
    "2. Deposit: Users can add funds to their account.\n",
    "3. Withdrawal: Users can withdraw funds, reducing the balance. Withdrawals are only possible if the requested amount is available.\n",
    "4. Check Balance: Users can check their current balance."
   ]
  }
 ],
 "metadata": {
  "kernelspec": {
   "display_name": "Python 3 (ipykernel)",
   "language": "python",
   "name": "python3"
  },
  "language_info": {
   "codemirror_mode": {
    "name": "ipython",
    "version": 3
   },
   "file_extension": ".py",
   "mimetype": "text/x-python",
   "name": "python",
   "nbconvert_exporter": "python",
   "pygments_lexer": "ipython3",
   "version": "3.11.5"
  }
 },
 "nbformat": 4,
 "nbformat_minor": 5
}
