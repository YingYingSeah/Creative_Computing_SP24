{
 "cells": [
  {
   "cell_type": "code",
   "execution_count": 6,
   "id": "c225ca63-d4e4-41c4-bd04-72ab97c3d206",
   "metadata": {
    "tags": []
   },
   "outputs": [
    {
     "name": "stdin",
     "output_type": "stream",
     "text": [
      "Number 1: 6\n",
      "Number 2: 8\n"
     ]
    },
    {
     "name": "stdout",
     "output_type": "stream",
     "text": [
      "14\n"
     ]
    }
   ],
   "source": [
    "def add_numbers(number1,number2):\n",
    "    total = number1 + number2\n",
    "    return total\n",
    "\n",
    "number4 = int(input(\"Number 1:\"))\n",
    "number5 = int(input(\"Number 2:\"))\n",
    "\n",
    "print(add_numbers(number4,number5))\n"
   ]
  }
 ],
 "metadata": {
  "kernelspec": {
   "display_name": "Python 3 (ipykernel)",
   "language": "python",
   "name": "python3"
  },
  "language_info": {
   "codemirror_mode": {
    "name": "ipython",
    "version": 3
   },
   "file_extension": ".py",
   "mimetype": "text/x-python",
   "name": "python",
   "nbconvert_exporter": "python",
   "pygments_lexer": "ipython3",
   "version": "3.11.5"
  }
 },
 "nbformat": 4,
 "nbformat_minor": 5
}
